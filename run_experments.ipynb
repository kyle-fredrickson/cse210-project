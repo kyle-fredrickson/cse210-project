{
 "metadata": {
  "language_info": {
   "codemirror_mode": {
    "name": "ipython",
    "version": 3
   },
   "file_extension": ".py",
   "mimetype": "text/x-python",
   "name": "python",
   "nbconvert_exporter": "python",
   "pygments_lexer": "ipython3",
   "version": "3.8.5-final"
  },
  "orig_nbformat": 2,
  "kernelspec": {
   "name": "python3",
   "display_name": "Python 3.8.5 64-bit",
   "metadata": {
    "interpreter": {
     "hash": "31f2aee4e71d21fbe5cf8b01ff0e069b9275f58929596ceb00d14d90e3e16cd6"
    }
   }
  }
 },
 "nbformat": 4,
 "nbformat_minor": 2,
 "cells": [
  {
   "source": [
    "# Experiments"
   ],
   "cell_type": "markdown",
   "metadata": {}
  },
  {
   "source": [
    "## Setup"
   ],
   "cell_type": "markdown",
   "metadata": {}
  },
  {
   "cell_type": "code",
   "execution_count": 16,
   "metadata": {},
   "outputs": [
    {
     "output_type": "execute_result",
     "data": {
      "text/plain": [
       "[250000,\n",
       " 500000,\n",
       " 750000,\n",
       " 1000000,\n",
       " 1250000,\n",
       " 1500000,\n",
       " 1750000,\n",
       " 2000000,\n",
       " 2250000,\n",
       " 2500000,\n",
       " 2750000,\n",
       " 3000000,\n",
       " 3250000]"
      ]
     },
     "metadata": {},
     "execution_count": 16
    }
   ],
   "source": [
    "import os\n",
    "\n",
    "THIS_DIR = os.path.abspath(os.path.dirname(\".\"))\n",
    "TEST_DATA = os.path.join(THIS_DIR, \"test-data\")\n",
    "\n",
    "BOOK = \"book.\"\n",
    "BOOK_PATH = os.path.join(TEST_DATA, BOOK + \"txt\")\n",
    "book_size_k = os.path.getsize(BOOK_PATH) / 1000\n",
    "\n",
    "STEP_SIZE_K = 250\n",
    "\n",
    "data_sizes = [x for x in range(STEP_SIZE, book_size - STEP_SIZE, STEP_SIZE)]\n",
    "\n"
   ]
  },
  {
   "cell_type": "code",
   "execution_count": 3,
   "metadata": {},
   "outputs": [
    {
     "output_type": "stream",
     "name": "stdout",
     "text": [
      "Testing c...\n",
      "c passed.\n"
     ]
    }
   ],
   "source": [
    "!./test.sh c main test-data/book.pdf test-data/book.enc"
   ]
  },
  {
   "source": [],
   "cell_type": "markdown",
   "metadata": {}
  }
 ]
}